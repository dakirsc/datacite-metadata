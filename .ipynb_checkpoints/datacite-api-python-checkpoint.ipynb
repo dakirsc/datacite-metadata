{
 "cells": [
  {
   "cell_type": "code",
   "execution_count": 1,
   "id": "b94d9be0-e858-449a-bf6f-701fcecb77e0",
   "metadata": {},
   "outputs": [],
   "source": [
    "import requests\n",
    "import pandas as pd"
   ]
  },
  {
   "cell_type": "code",
   "execution_count": null,
   "id": "fb26ac80-4429-43bb-abd8-813778f74815",
   "metadata": {},
   "outputs": [],
   "source": [
    "# URL to fetch data from\n",
    "URL = \"https://api.datacite.org/dois?query=creators.affiliation.name:%22University%20of%20Kentucky%22*&affiliation=true&resource-type-id=Dataset\"\n",
    "\n",
    "#Fetch and process data\n",
    "start_response = requests.get(URL)\n",
    "start_json_data = start_response.json()"
   ]
  },
  {
   "cell_type": "code",
   "execution_count": null,
   "id": "9e4b877e-ce26-4f1c-b9d7-95ef63b272fe",
   "metadata": {},
   "outputs": [],
   "source": []
  }
 ],
 "metadata": {
  "kernelspec": {
   "display_name": "Python 3 (ipykernel)",
   "language": "python",
   "name": "python3"
  },
  "language_info": {
   "codemirror_mode": {
    "name": "ipython",
    "version": 3
   },
   "file_extension": ".py",
   "mimetype": "text/x-python",
   "name": "python",
   "nbconvert_exporter": "python",
   "pygments_lexer": "ipython3",
   "version": "3.12.2"
  }
 },
 "nbformat": 4,
 "nbformat_minor": 5
}
