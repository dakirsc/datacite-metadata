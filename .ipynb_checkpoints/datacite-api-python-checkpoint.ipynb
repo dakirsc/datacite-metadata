{
 "cells": [
  {
   "cell_type": "code",
   "execution_count": null,
   "id": "b94d9be0-e858-449a-bf6f-701fcecb77e0",
   "metadata": {},
   "outputs": [],
   "source": [
    "import requests"
   ]
  }
 ],
 "metadata": {
  "kernelspec": {
   "display_name": "Python 3 (ipykernel)",
   "language": "python",
   "name": "python3"
  },
  "language_info": {
   "codemirror_mode": {
    "name": "ipython",
    "version": 3
   },
   "file_extension": ".py",
   "mimetype": "text/x-python",
   "name": "python",
   "nbconvert_exporter": "python",
   "pygments_lexer": "ipython3",
   "version": "3.12.2"
  }
 },
 "nbformat": 4,
 "nbformat_minor": 5
}
